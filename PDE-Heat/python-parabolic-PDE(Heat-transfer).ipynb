{
 "cells": [
  {
   "cell_type": "markdown",
   "metadata": {
    "slideshow": {
     "slide_type": "slide"
    },
    "toc-hr-collapsed": true,
    "toc-nb-collapsed": true
   },
   "source": [
    "# Physical Model\n",
    "\n",
    "\\begin{equation*}\n",
    "\\partial_{t} u=D \\partial_{x x} u+F(u(x, t), t), x \\in[0 ; 2 \\pi]\n",
    "\\end{equation*}\n",
    "\n",
    "Initial Condition： \n",
    "$\n",
    "u(x, 0)=u_{0}(x), x \\in[0 ; 2 \\pi]\n",
    "$\n",
    "\n",
    "\n",
    "Boundary Conditions： \n",
    "$\n",
    "u(0, t)=u(2 \\pi, t) ; \\partial_{x} u(0, t)=\\partial_{x} u(2 \\pi, t), t \\in[0 ; T]\n",
    "$\n",
    "\n",
    "$D$ - Coefficient of diffusion\n",
    "$u_0 = \\sin (5x) $\\\\\n",
    "\n",
    "$F(u(x,t),t) = \\sin (0.1*u(x,t),t)$\n",
    "\n",
    "\n",
    "# Numerical Scheme\n",
    "## Discretization\n",
    "\\begin{equation*}\n",
    "x_n = n \\Delta x, n = \\overline{0, N}, \\, \\Delta x = \\frac{2\\pi}{N} \n",
    "\\end{equation*}\n",
    "\n",
    "\\begin{equation*}\n",
    "t_m = m \\Delta t, \\, m =\\overline{0, M}, \\, \\Delta t = \\frac{T}{M}\n",
    "\\end{equation*}\n",
    "\\begin{equation*}\n",
    "u_n^m = u(n\\Delta x,m \\Delta t)\n",
    "\\end{equation*}\n",
    "\n",
    "\n",
    "\n",
    "## Finite Difference\n",
    "\\begin{equation}\n",
    "\\left\\{\\begin{array}{l}\n",
    "\\frac{u_{n}^{m}-u_{n}^{m-1}}{\\tau}+L_{n}\\left(\\frac{u^{m}+u^{m-1}}{2}\\right)=\\frac{F_{n}^{m}+F_{n}^{m-1}}{2}, m=\\overline{0, M}, n=\\overline{0, N} \\\\\n",
    "u_{0}^{m}=u_{N}^{m}=\\frac{u_{1}^{m}+u_{N-1}^{m}}{2} \\\\\n",
    "u_{n}^{0}=u_{0}(x n), n=0,\\dots, N\n",
    "\\end{array}\\right.\n",
    "\\end{equation}\n",
    "\\begin{equation*}\n",
    "L_{n} u^{m}=D \\frac{u_{n+1}^{m}-2 u_{n}^{m}+u_{n-1}^{m}}{(\\Delta x)^{2}}\n",
    "\\end{equation*}\n",
    "\n",
    "\n",
    "## Fourier Method\n",
    "\n",
    "\\begin{equation*}\n",
    "u^{m}\\left(x_{n}\\right)=\\sum_{k=0}^{N} \\widehat{u}_{k}^{m} e_{k}(x_n),  \\,\n",
    "\\quad e_{k}(x_n)=\\frac{1}{2 \\pi} e^{i k x_n}, k=\\overline{0, N}\n",
    "\\end{equation*}\n",
    "\n",
    "\\begin{equation*}\n",
    "\\left(E+\\frac{\\tau}{2} L_{n} \\right) u^{(s)}=\\left(E-\\frac{\\tau}{2} L_{n}\\right) u^{m-1}+\\tau \\frac{F_{n}^{(s-1)}+F_{n}^{m-1}}{2}, n=\\overline{0, N}\n",
    "\\end{equation*}\n",
    "\n",
    "\n",
    "\\begin{equation*}\n",
    "\\left\\langle\\left(E+\\frac{\\tau}{2} L_{n}\\right) \\sum_{k=0}^{N} \\widehat{u}_{k}^{(s)} e_{k}, e_{p}\\right\\rangle=\\left\\langle\\left(E-\\frac{\\tau}{2} L_{n}\\right) \\sum_{k=0}^{N} \\widehat{u}_{k}^{m-1} e_{k}, e_{p}\\right\\rangle+\\tau\\left\\langle\\frac{F_{n}^{(s-1)}+F_{n}^{m-1}}{2}, e_{p}\\right\\rangle,\\, p=\\overline{0,N}\n",
    "\\end{equation*}\n",
    "\n",
    "\\begin{equation*}\n",
    "\\left(1+\\frac{\\tau}{2} \\lambda_{l}\\right) \\widehat{u}_{l}^{(s)}=\\left(1-\\frac{\\tau}{2} \\lambda_{l}\\right) \\widehat{u}_{l}^{m}+\\frac{\\tau}{2} \\phi_{l}^{m}, \\quad \\lambda_{k}=\\frac{4 D}{(\\Delta x)^{2}} \\sin ^{2}\\left(\\frac{k \\Delta x}{4}\\right) \\\\\n",
    "\\widehat{u}_{l}^{(s)}=\\frac{\\left(2-\\tau \\lambda_{l}\\right) u_{l}^{m-1}+\\tau \\phi_{l}^{m}}{2+\\tau \\lambda_{l}} , \\quad \\phi_{l}^{m}=\\left\\langle F_{n}^{(s-1)}+F_{n}^{m-1}, e_{l}\\right\\rangle, l=\\overline{0,N}\n",
    "\\end{equation*}\n",
    "\n",
    "Final Step: IFFT (Inverse fast Fourier transform)"
   ]
  },
  {
   "cell_type": "markdown",
   "metadata": {
    "slideshow": {
     "slide_type": "slide"
    }
   },
   "source": [
    "\\begin{equation*}\n",
    "\\left(1+\\frac{\\tau}{2} \\lambda_{l}\\right) \\widehat{u}_{l}^{(s)}=\\left(1-\\frac{\\tau}{2} \\lambda_{l}\\right) \\widehat{u}_{l}^{m}+\\frac{\\tau}{2} \\phi_{l}^{m}, \\quad \\lambda_{k}=\\frac{4 D}{(\\Delta x)^{2}} \\sin ^{2}\\left(\\frac{k \\Delta x}{4}\\right) \\\\\n",
    "\\widehat{u}_{l}^{(s)}=\\frac{\\left(2-\\tau \\lambda_{l}\\right) u_{l}^{m-1}+\\tau \\phi_{l}^{m}}{2+\\tau \\lambda_{l}} , \\quad \\phi_{l}^{m}=\\left\\langle F_{n}^{(s-1)}+F_{n}^{m-1}, e_{l}\\right\\rangle\n",
    "\\end{equation*}"
   ]
  },
  {
   "cell_type": "markdown",
   "metadata": {
    "slideshow": {
     "slide_type": "slide"
    }
   },
   "source": [
    "# Numerical Solution\n",
    "## Initialization"
   ]
  },
  {
   "cell_type": "code",
   "execution_count": 7,
   "metadata": {},
   "outputs": [],
   "source": [
    "import numpy as np\n",
    "import matplotlib.pyplot as plt\n",
    "from scipy.fftpack import fft, ifft,irfft,rfft,fftfreq"
   ]
  },
  {
   "cell_type": "markdown",
   "metadata": {},
   "source": [
    "**Set Parameters**"
   ]
  },
  {
   "cell_type": "code",
   "execution_count": 2,
   "metadata": {},
   "outputs": [],
   "source": [
    "from sidecar import Sidecar\n",
    "from ipywidgets import IntSlider,FloatSlider\n",
    "\n",
    "sc = Sidecar(title='Set Parameters')\n",
    "D_sc = IntSlider(description='D  (10$^{-4}$)',min=1,max=100,step=1,orientation='vertical')\n",
    "M_sc = IntSlider(description='M',min=100,max=1e4,step=1e2,orientation='vertical')\n",
    "\n",
    "dx_sc = FloatSlider(description='dx',min=1.e-2,max=1.,step=1.e-3,orientation='vertical')\n",
    "dt_sc = FloatSlider(description='dt',min=.1,max=10,step=1.e-1,orientation='vertical')\n",
    "\n",
    "with sc:\n",
    "    display(D_sc,M_sc)\n",
    "    display(dx_sc,dt_sc)"
   ]
  },
  {
   "cell_type": "code",
   "execution_count": 4,
   "metadata": {},
   "outputs": [],
   "source": [
    "D = D_sc.value * 1.e-4 # coefficient of diffusion\n",
    "M = M_sc.value  # steps\n",
    "dt = dt_sc.value \n",
    "dx = dx_sc.value\n",
    "\n",
    "T = dt * M\n",
    "xLeft = 0\n",
    "xRight = 2 * np.pi \n",
    "N = int((xRight - xLeft) / dx)\n",
    "\n",
    "x = np.linspace(xLeft,xRight,num=N+1,endpoint=True)\n",
    "t = np.linspace(0,T,num=M,endpoint=False)\n",
    "u = np.zeros((len(t),len(x)))\n",
    "u0 = np.sin(5*x) \n",
    "u[0] = u0"
   ]
  },
  {
   "cell_type": "markdown",
   "metadata": {},
   "source": [
    "## Iteration"
   ]
  },
  {
   "cell_type": "code",
   "execution_count": 58,
   "metadata": {},
   "outputs": [],
   "source": [
    "lambda_k = lambda k: 4 * D / (dx**2 )* (np.sin(k*dx/4)) ** 2\n",
    "e_k = lambda k,x: 1/(2*np.pi) * np.exp(1j * k * x)\n",
    "K = np.linspace(0,N+1,num=N+1,endpoint=False)\n",
    "\n",
    "for i in range(1,len(t)):\n",
    "    Au = np.zeros_like(x,dtype=complex) # amplitudes in complex\n",
    "    Fm_1 = np.sin(0.1*u[i-1]+t[i-1])  # np.ones_like(x) #\n",
    "    Fs_1 = Fm_1\n",
    "    for l in range(len(x)):\n",
    "        #phi =(Fm_1[l]+Fs_1[l]) * 1/(2*np.pi) * np.exp(1j * l)\n",
    "        phi =np.sum((Fm_1+Fs_1) * e_k(l,x))\n",
    "        Au[l] = ((2 - dt * lambda_k(l)) * u[i-1,l] + dt * phi) / (2 + dt * lambda_k(l))\n",
    "    u[i] = np.fft.irfft(Au,n=N+1)\n",
    "    #ux = lambda xn: np.sum(Au*e_k(K,xn))/ (N+1)\n",
    "    #u[i] = np.array([ux(x[k]).real for k in range(len(x))])"
   ]
  },
  {
   "cell_type": "markdown",
   "metadata": {},
   "source": [
    "## Plot result"
   ]
  },
  {
   "cell_type": "code",
   "execution_count": 59,
   "metadata": {},
   "outputs": [
    {
     "data": {
      "text/plain": [
       "(0.5, 5.783185307179586)"
      ]
     },
     "execution_count": 59,
     "metadata": {},
     "output_type": "execute_result"
    },
    {
     "data": {
      "image/png": "[encoded data removed]",
      "text/plain": [
       "<Figure size 432x288 with 1 Axes>"
      ]
     },
     "metadata": {
      "needs_background": "light"
     },
     "output_type": "display_data"
    }
   ],
   "source": [
    "for i in range(0,len(t)):\n",
    "    plt.plot(x,u[i],label='time = {:.0f}'.format(i*dt))\n",
    "#plt.legend()\n",
    "plt.grid()\n",
    "plt.xlabel('x')\n",
    "plt.ylabel('u')\n",
    "plt.xlim(left=0+.5,right=2*np.pi-.5)\n",
    "#plt.ylim(bottom=-1,top=1)"
   ]
  },
  {
   "cell_type": "code",
   "execution_count": 60,
   "metadata": {},
   "outputs": [
    {
     "data": {
      "text/plain": [
       "[<matplotlib.lines.Line2D at 0x7f33fbf7ba60>]"
      ]
     },
     "execution_count": 60,
     "metadata": {},
     "output_type": "execute_result"
    },
    {
     "data": {
      "image/png": "[encoded data removed]",
      "text/plain": [
       "<Figure size 432x288 with 1 Axes>"
      ]
     },
     "metadata": {
      "needs_background": "light"
     },
     "output_type": "display_data"
    }
   ],
   "source": [
    "plt.plot(t,u[:,10])"
   ]
  },
  {
   "cell_type": "code",
   "execution_count": 61,
   "metadata": {},
   "outputs": [
    {
     "data": {
      "text/plain": [
       "<matplotlib.colorbar.Colorbar at 0x7f3404c09f40>"
      ]
     },
     "execution_count": 61,
     "metadata": {},
     "output_type": "execute_result"
    },
    {
     "data": {
      "image/png": "[encoded data removed]",
      "text/plain": [
       "<Figure size 432x288 with 2 Axes>"
      ]
     },
     "metadata": {
      "needs_background": "light"
     },
     "output_type": "display_data"
    }
   ],
   "source": [
    "plt.imshow(u[0:,:],cmap='rainbow',vmin=-.25,vmax=.25)\n",
    "plt.xlabel('x')\n",
    "plt.ylabel('t')\n",
    "plt.colorbar()"
   ]
  },
  {
   "cell_type": "code",
   "execution_count": null,
   "metadata": {},
   "outputs": [],
   "source": []
  }
 ],
 "metadata": {
  "hide_input": false,
  "kernelspec": {
   "display_name": "Python 3",
   "language": "python",
   "name": "python3"
  },
  "language_info": {
   "codemirror_mode": {
    "name": "ipython",
    "version": 3
   },
   "file_extension": ".py",
   "mimetype": "text/x-python",
   "name": "python",
   "nbconvert_exporter": "python",
   "pygments_lexer": "ipython3",
   "version": "3.8.5"
  },
  "latex_envs": {
   "LaTeX_envs_menu_present": true,
   "autoclose": true,
   "autocomplete": true,
   "bibliofile": "biblio.bib",
   "cite_by": "apalike",
   "current_citInitial": 1,
   "eqLabelWithNumbers": true,
   "eqNumInitial": 1,
   "hotkeys": {
    "equation": "Ctrl-E",
    "itemize": "Ctrl-I"
   },
   "labels_anchors": false,
   "latex_user_defs": false,
   "report_style_numbering": false,
   "user_envs_cfg": false
  },
  "nteract": {
   "version": "0.26.0"
  },
  "toc": {
   "base_numbering": 1,
   "nav_menu": {},
   "number_sections": true,
   "sideBar": true,
   "skip_h1_title": false,
   "title_cell": "Table of Contents",
   "title_sidebar": "Contents",
   "toc_cell": false,
   "toc_position": {},
   "toc_section_display": true,
   "toc_window_display": true
  },
  "toc-autonumbering": true,
  "toc-showmarkdowntxt": true
 },
 "nbformat": 4,
 "nbformat_minor": 4
}
